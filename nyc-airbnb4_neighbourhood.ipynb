{
 "cells": [
  {
   "cell_type": "code",
   "execution_count": 1,
   "metadata": {
    "collapsed": true
   },
   "outputs": [],
   "source": [
    "import pandas as pd\n",
    "import numpy as np\n",
    "import matplotlib.pyplot as plt\n",
    "import seaborn as sb\n",
    "from sklearn.preprocessing import StandardScaler\n",
    "from sklearn.decomposition import PCA\n",
    "from sklearn.model_selection import train_test_split, KFold, cross_val_score, GridSearchCV\n",
    "from sklearn.linear_model import LinearRegression, Ridge, Lasso, HuberRegressor\n",
    "from sklearn.ensemble import RandomForestRegressor\n",
    "from sklearn.tree import DecisionTreeRegressor\n",
    "from sklearn.svm import LinearSVR\n",
    "from sklearn.metrics import r2_score, make_scorer, mean_squared_error, median_absolute_error, mean_absolute_error\n",
    "from xgboost import XGBRegressor"
   ]
  },
  {
   "cell_type": "code",
   "execution_count": 2,
   "metadata": {},
   "outputs": [
    {
     "name": "stderr",
     "output_type": "stream",
     "text": [
      "/usr/local/lib/python3.5/dist-packages/ipykernel_launcher.py:35: UserWarning: Boolean Series key will be reindexed to match DataFrame index.\n",
      "/usr/local/lib/python3.5/dist-packages/ipykernel_launcher.py:36: UserWarning: Boolean Series key will be reindexed to match DataFrame index.\n",
      "/usr/local/lib/python3.5/dist-packages/ipykernel_launcher.py:37: UserWarning: Boolean Series key will be reindexed to match DataFrame index.\n",
      "/usr/local/lib/python3.5/dist-packages/ipykernel_launcher.py:38: UserWarning: Boolean Series key will be reindexed to match DataFrame index.\n",
      "/usr/local/lib/python3.5/dist-packages/ipykernel_launcher.py:39: UserWarning: Boolean Series key will be reindexed to match DataFrame index.\n"
     ]
    }
   ],
   "source": [
    "# DATA CLEANING\n",
    "\n",
    "\n",
    "# Load the dataset\n",
    "dataset = pd.read_csv('data/AB_NYC_2019.csv')\n",
    "\n",
    "# Drop unwanted columns\n",
    "dataset.drop('id', axis=1, inplace=True)\n",
    "dataset.drop('name', axis=1, inplace=True)\n",
    "dataset.drop('host_id', axis=1, inplace=True)\n",
    "dataset.drop('host_name', axis=1, inplace=True)\n",
    "dataset.drop('number_of_reviews', axis=1, inplace=True)\n",
    "dataset.drop('last_review', axis=1, inplace=True)\n",
    "dataset.drop('reviews_per_month', axis=1, inplace=True)\n",
    "dataset.drop('latitude', axis=1, inplace=True)\n",
    "dataset.drop('longitude', axis=1, inplace=True)\n",
    "\n",
    "# Remove price = 0\n",
    "dataset = dataset[dataset.price > 0].copy()\n",
    "\n",
    "# Standardize ratio attributes\n",
    "dataset[['minimum_nights', 'calculated_host_listings_count', 'availability_365']] = StandardScaler().fit_transform(dataset[['minimum_nights', 'calculated_host_listings_count', 'availability_365']])\n",
    "\n",
    "# Log price\n",
    "dataset['log_price'] = np.log1p(dataset['price'])\n",
    "\n",
    "# One hot encoding for the categorical features\n",
    "room_type_dummies = pd.get_dummies(dataset['room_type'], prefix=\"is_room\")\n",
    "neighbourhood_dummies = pd.get_dummies(dataset['neighbourhood'], prefix=\"is_neighbourhood\")\n",
    "preprocessed_dataset = pd.concat([dataset[['minimum_nights','calculated_host_listings_count',\n",
    "       'availability_365', 'neighbourhood_group']], room_type_dummies, neighbourhood_dummies, dataset[['price', 'log_price']]], axis=1)\n",
    "\n",
    "# Dataset division neighbourhood group:['Brooklyn', 'Manhattan', 'Queens', 'Staten Island', 'Bronx']\n",
    "datasets = {}\n",
    "datasets['brooklyn'] = preprocessed_dataset[preprocessed_dataset.neighbourhood_group == 'Brooklyn'].copy().drop('neighbourhood_group', axis=1)[preprocessed_dataset.price < 300].copy()\n",
    "datasets['manhattan'] = preprocessed_dataset[preprocessed_dataset.neighbourhood_group == 'Manhattan'].copy().drop('neighbourhood_group', axis=1)[preprocessed_dataset.price < 400].copy()\n",
    "datasets['queens'] = preprocessed_dataset[preprocessed_dataset.neighbourhood_group == 'Queens'].copy().drop('neighbourhood_group', axis=1)[preprocessed_dataset.price < 120].copy()\n",
    "datasets['staten_island'] = preprocessed_dataset[preprocessed_dataset.neighbourhood_group == 'Staten Island'].copy().drop('neighbourhood_group', axis=1)[preprocessed_dataset.price < 120].copy()\n",
    "datasets['bronx'] = preprocessed_dataset[preprocessed_dataset.neighbourhood_group == 'Bronx'].copy().drop('neighbourhood_group', axis=1)[preprocessed_dataset.price < 100].copy()\n",
    "\n",
    "# # plots\n",
    "# sb.distplot(preprocessed_dataset['price'], color='blue')\n",
    "# plt.title('Skewed price')\n",
    "# plt.show()\n",
    "\n",
    "# sb.distplot(preprocessed_dataset['log_price'], color='green')\n",
    "# plt.show()"
   ]
  },
  {
   "cell_type": "code",
   "execution_count": 3,
   "metadata": {},
   "outputs": [
    {
     "name": "stdout",
     "output_type": "stream",
     "text": [
      "manhattan\n",
      "(20208, 227) (20208,)\n",
      "cutoff = 20\n",
      "dict_keys(['manhattan'])\n",
      "queens\n",
      "(4350, 227) (4350,)\n",
      "cutoff = 32\n",
      "dict_keys(['manhattan', 'queens'])\n",
      "staten_island\n",
      "(290, 227) (290,)\n",
      "cutoff = 30\n",
      "dict_keys(['manhattan', 'queens', 'staten_island'])\n",
      "bronx\n",
      "(822, 227) (822,)\n",
      "cutoff = 39\n",
      "dict_keys(['manhattan', 'queens', 'bronx', 'staten_island'])\n",
      "brooklyn\n",
      "(19182, 227) (19182,)\n",
      "cutoff = 28\n",
      "dict_keys(['manhattan', 'queens', 'bronx', 'brooklyn', 'staten_island'])\n"
     ]
    }
   ],
   "source": [
    "# DIMENSIONALILTY REDUCTION\n",
    "\n",
    "sets = {}\n",
    "\n",
    "for name, preprocessed_dataset in datasets.items():\n",
    "    print(name)\n",
    "    # Principle Component Analysis\n",
    "    X = preprocessed_dataset.copy().drop('price', axis=1).drop('log_price', axis=1)\n",
    "    y = preprocessed_dataset['log_price']\n",
    "\n",
    "    print(X.shape, y.shape)\n",
    "    pca = PCA()\n",
    "    pca.fit(X)\n",
    "\n",
    "    cutoff_variance = 0.98 # 0.95\n",
    "    cutoff = 0\n",
    "    cumulative_variance = np.cumsum(pca.explained_variance_ratio_)\n",
    "    for i in range(len(cumulative_variance)):\n",
    "        if cumulative_variance[i] > cutoff_variance:\n",
    "            cutoff = i\n",
    "            break\n",
    "\n",
    "    print('cutoff =', cutoff)\n",
    "\n",
    "    pca = PCA(n_components=cutoff)\n",
    "    pcaX = pca.fit_transform(X)\n",
    "    pcaX.shape\n",
    "\n",
    "    # get the training and testing sets (PCA)\n",
    "    sets[name] = {}\n",
    "    X_train, X_test, y_train, y_test = train_test_split(pcaX, y, test_size=0.25, random_state=101)\n",
    "    sets[name]['X_train'] = X_train\n",
    "    sets[name]['X_test'] = X_test\n",
    "    sets[name]['y_train'] = y_train\n",
    "    sets[name]['y_test'] = y_test\n",
    "    print(sets.keys())\n",
    "#     print(X_train.shape, X_test.shape, y_train.shape, y_test.shape)"
   ]
  },
  {
   "cell_type": "code",
   "execution_count": 4,
   "metadata": {},
   "outputs": [
    {
     "name": "stderr",
     "output_type": "stream",
     "text": [
      "/usr/local/lib/python3.5/dist-packages/xgboost/core.py:587: FutureWarning: Series.base is deprecated and will be removed in a future version\n",
      "  if getattr(data, 'base', None) is not None and \\\n"
     ]
    },
    {
     "name": "stdout",
     "output_type": "stream",
     "text": [
      "manhattan done\n"
     ]
    },
    {
     "name": "stderr",
     "output_type": "stream",
     "text": [
      "/usr/local/lib/python3.5/dist-packages/xgboost/core.py:587: FutureWarning: Series.base is deprecated and will be removed in a future version\n",
      "  if getattr(data, 'base', None) is not None and \\\n"
     ]
    },
    {
     "name": "stdout",
     "output_type": "stream",
     "text": [
      "queens done\n"
     ]
    },
    {
     "name": "stderr",
     "output_type": "stream",
     "text": [
      "/usr/local/lib/python3.5/dist-packages/xgboost/core.py:587: FutureWarning: Series.base is deprecated and will be removed in a future version\n",
      "  if getattr(data, 'base', None) is not None and \\\n"
     ]
    },
    {
     "name": "stdout",
     "output_type": "stream",
     "text": [
      "bronx done\n"
     ]
    },
    {
     "name": "stderr",
     "output_type": "stream",
     "text": [
      "/usr/local/lib/python3.5/dist-packages/xgboost/core.py:587: FutureWarning: Series.base is deprecated and will be removed in a future version\n",
      "  if getattr(data, 'base', None) is not None and \\\n"
     ]
    },
    {
     "name": "stdout",
     "output_type": "stream",
     "text": [
      "brooklyn done\n",
      "staten_island done\n"
     ]
    },
    {
     "name": "stderr",
     "output_type": "stream",
     "text": [
      "/usr/local/lib/python3.5/dist-packages/xgboost/core.py:587: FutureWarning: Series.base is deprecated and will be removed in a future version\n",
      "  if getattr(data, 'base', None) is not None and \\\n"
     ]
    }
   ],
   "source": [
    "results = {}\n",
    "train_predictions = {}\n",
    "test_predictions = {}\n",
    "for room in sets:\n",
    "    rows = []\n",
    "    train_preds = []\n",
    "    test_preds = []\n",
    "\n",
    "    models = [XGBRegressor(objective='reg:squarederror', subsample=1.0, colsample_bytree=1.0, eta=0.05,eval_metric='rmse',max_depth=7,min_child_weight=7)]\n",
    "    # models = [XGBRegressor(objective='reg:squarederror'), LinearRegression(), Ridge(), Lasso(alpha=1e-4), RandomForestRegressor()]\n",
    "    for model in models:\n",
    "\n",
    "        model.fit(sets[room]['X_train'], sets[room]['y_train'])\n",
    "\n",
    "        y_train_pred = model.predict(sets[room]['X_train'])\n",
    "        train_preds.append(y_train_pred)\n",
    "\n",
    "        y_pred = model.predict(sets[room]['X_test'])\n",
    "        test_preds.append(y_pred)\n",
    "\n",
    "        rows.append([np.sqrt(mean_squared_error(np.expm1(sets[room]['y_test']), np.expm1(y_pred))),\n",
    "                   r2_score(sets[room]['y_test'], y_pred),\n",
    "                   median_absolute_error(np.expm1(sets[room]['y_test']), np.expm1(y_pred)),\n",
    "                   mean_absolute_error(np.expm1(sets[room]['y_test']), np.expm1(y_pred)),\n",
    "                   np.sqrt(mean_squared_error(np.expm1(sets[room]['y_train']), np.expm1(y_train_pred))),\n",
    "                   r2_score(sets[room]['y_train'], y_train_pred),\n",
    "                   median_absolute_error(np.expm1(sets[room]['y_train']), np.expm1(y_train_pred)),\n",
    "                   mean_absolute_error(np.expm1(sets[room]['y_train']), np.expm1(y_train_pred))])\n",
    "    results[room] = rows\n",
    "    train_predictions[room] = train_preds\n",
    "    test_predictions[room] = test_preds\n",
    "    print(room, 'done')"
   ]
  },
  {
   "cell_type": "code",
   "execution_count": 8,
   "metadata": {},
   "outputs": [
    {
     "name": "stdout",
     "output_type": "stream",
     "text": [
      "99.00000000000004 10.000000000000002\n",
      "96.32472 19.341097\n"
     ]
    },
    {
     "data": {
      "text/html": [
       "<div>\n",
       "<style scoped>\n",
       "    .dataframe tbody tr th:only-of-type {\n",
       "        vertical-align: middle;\n",
       "    }\n",
       "\n",
       "    .dataframe tbody tr th {\n",
       "        vertical-align: top;\n",
       "    }\n",
       "\n",
       "    .dataframe thead th {\n",
       "        text-align: right;\n",
       "    }\n",
       "</style>\n",
       "<table border=\"1\" class=\"dataframe\">\n",
       "  <thead>\n",
       "    <tr style=\"text-align: right;\">\n",
       "      <th></th>\n",
       "      <th>Test RMSE</th>\n",
       "      <th>Test R2</th>\n",
       "      <th>Test MedianAE</th>\n",
       "      <th>Test MeanAE</th>\n",
       "      <th>Train RMSE</th>\n",
       "      <th>Train R2</th>\n",
       "      <th>Train MedianAE</th>\n",
       "      <th>Train MeanAE</th>\n",
       "    </tr>\n",
       "  </thead>\n",
       "  <tbody>\n",
       "    <tr>\n",
       "      <th>0</th>\n",
       "      <td>15.583014</td>\n",
       "      <td>0.35182</td>\n",
       "      <td>10.789948</td>\n",
       "      <td>12.425139</td>\n",
       "      <td>6.169827</td>\n",
       "      <td>0.909736</td>\n",
       "      <td>3.109474</td>\n",
       "      <td>4.29947</td>\n",
       "    </tr>\n",
       "  </tbody>\n",
       "</table>\n",
       "</div>"
      ],
      "text/plain": [
       "   Test RMSE  Test R2  Test MedianAE  Test MeanAE  Train RMSE  Train R2  \\\n",
       "0  15.583014  0.35182      10.789948    12.425139    6.169827  0.909736   \n",
       "\n",
       "   Train MedianAE  Train MeanAE  \n",
       "0        3.109474       4.29947  "
      ]
     },
     "execution_count": 8,
     "metadata": {},
     "output_type": "execute_result"
    }
   ],
   "source": [
    "print(np.expm1(sets['bronx']['y_test'].max()), np.expm1(sets['bronx']['y_test'].min()))\n",
    "print(np.expm1(test_predictions['bronx'][0].max()), np.expm1(test_predictions['bronx'][0].min()))\n",
    "\n",
    "pd.DataFrame(results['bronx'], columns=['Test RMSE', 'Test R2', 'Test MedianAE', 'Test MeanAE', 'Train RMSE', 'Train R2', 'Train MedianAE', 'Train MeanAE'])\n"
   ]
  },
  {
   "cell_type": "code",
   "execution_count": 9,
   "metadata": {},
   "outputs": [
    {
     "name": "stdout",
     "output_type": "stream",
     "text": [
      "398.9999999999999 10.000000000000002\n",
      "322.3077 34.92592\n"
     ]
    },
    {
     "data": {
      "text/html": [
       "<div>\n",
       "<style scoped>\n",
       "    .dataframe tbody tr th:only-of-type {\n",
       "        vertical-align: middle;\n",
       "    }\n",
       "\n",
       "    .dataframe tbody tr th {\n",
       "        vertical-align: top;\n",
       "    }\n",
       "\n",
       "    .dataframe thead th {\n",
       "        text-align: right;\n",
       "    }\n",
       "</style>\n",
       "<table border=\"1\" class=\"dataframe\">\n",
       "  <thead>\n",
       "    <tr style=\"text-align: right;\">\n",
       "      <th></th>\n",
       "      <th>Test RMSE</th>\n",
       "      <th>Test R2</th>\n",
       "      <th>Test MedianAE</th>\n",
       "      <th>Test MeanAE</th>\n",
       "      <th>Train RMSE</th>\n",
       "      <th>Train R2</th>\n",
       "      <th>Train MedianAE</th>\n",
       "      <th>Train MeanAE</th>\n",
       "    </tr>\n",
       "  </thead>\n",
       "  <tbody>\n",
       "    <tr>\n",
       "      <th>0</th>\n",
       "      <td>58.268342</td>\n",
       "      <td>0.564014</td>\n",
       "      <td>27.787445</td>\n",
       "      <td>40.963099</td>\n",
       "      <td>53.120491</td>\n",
       "      <td>0.660342</td>\n",
       "      <td>24.161488</td>\n",
       "      <td>36.800979</td>\n",
       "    </tr>\n",
       "  </tbody>\n",
       "</table>\n",
       "</div>"
      ],
      "text/plain": [
       "   Test RMSE   Test R2  Test MedianAE  Test MeanAE  Train RMSE  Train R2  \\\n",
       "0  58.268342  0.564014      27.787445    40.963099   53.120491  0.660342   \n",
       "\n",
       "   Train MedianAE  Train MeanAE  \n",
       "0       24.161488     36.800979  "
      ]
     },
     "execution_count": 9,
     "metadata": {},
     "output_type": "execute_result"
    }
   ],
   "source": [
    "print(np.expm1(sets['manhattan']['y_test'].max()), np.expm1(sets['manhattan']['y_test'].min()))\n",
    "print(np.expm1(test_predictions['manhattan'][0].max()), np.expm1(test_predictions['manhattan'][0].min()))\n",
    "\n",
    "pd.DataFrame(results['manhattan'], columns=['Test RMSE', 'Test R2', 'Test MedianAE', 'Test MeanAE', 'Train RMSE', 'Train R2', 'Train MedianAE', 'Train MeanAE'])"
   ]
  },
  {
   "cell_type": "code",
   "execution_count": 10,
   "metadata": {},
   "outputs": [
    {
     "name": "stdout",
     "output_type": "stream",
     "text": [
      "298.99999999999994 10.000000000000002\n",
      "212.58353 25.328117\n"
     ]
    },
    {
     "data": {
      "text/html": [
       "<div>\n",
       "<style scoped>\n",
       "    .dataframe tbody tr th:only-of-type {\n",
       "        vertical-align: middle;\n",
       "    }\n",
       "\n",
       "    .dataframe tbody tr th {\n",
       "        vertical-align: top;\n",
       "    }\n",
       "\n",
       "    .dataframe thead th {\n",
       "        text-align: right;\n",
       "    }\n",
       "</style>\n",
       "<table border=\"1\" class=\"dataframe\">\n",
       "  <thead>\n",
       "    <tr style=\"text-align: right;\">\n",
       "      <th></th>\n",
       "      <th>Test RMSE</th>\n",
       "      <th>Test R2</th>\n",
       "      <th>Test MedianAE</th>\n",
       "      <th>Test MeanAE</th>\n",
       "      <th>Train RMSE</th>\n",
       "      <th>Train R2</th>\n",
       "      <th>Train MedianAE</th>\n",
       "      <th>Train MeanAE</th>\n",
       "    </tr>\n",
       "  </thead>\n",
       "  <tbody>\n",
       "    <tr>\n",
       "      <th>0</th>\n",
       "      <td>40.810858</td>\n",
       "      <td>0.580073</td>\n",
       "      <td>18.441288</td>\n",
       "      <td>27.970079</td>\n",
       "      <td>36.1704</td>\n",
       "      <td>0.669295</td>\n",
       "      <td>16.197704</td>\n",
       "      <td>24.743869</td>\n",
       "    </tr>\n",
       "  </tbody>\n",
       "</table>\n",
       "</div>"
      ],
      "text/plain": [
       "   Test RMSE   Test R2  Test MedianAE  Test MeanAE  Train RMSE  Train R2  \\\n",
       "0  40.810858  0.580073      18.441288    27.970079     36.1704  0.669295   \n",
       "\n",
       "   Train MedianAE  Train MeanAE  \n",
       "0       16.197704     24.743869  "
      ]
     },
     "execution_count": 10,
     "metadata": {},
     "output_type": "execute_result"
    }
   ],
   "source": [
    "print(np.expm1(sets['brooklyn']['y_test'].max()), np.expm1(sets['brooklyn']['y_test'].min()))\n",
    "print(np.expm1(test_predictions['brooklyn'][0].max()), np.expm1(test_predictions['brooklyn'][0].min()))\n",
    "\n",
    "pd.DataFrame(results['brooklyn'], columns=['Test RMSE', 'Test R2', 'Test MedianAE', 'Test MeanAE', 'Train RMSE', 'Train R2', 'Train MedianAE', 'Train MeanAE'])"
   ]
  },
  {
   "cell_type": "code",
   "execution_count": 11,
   "metadata": {},
   "outputs": [
    {
     "name": "stdout",
     "output_type": "stream",
     "text": [
      "118.99999999999997 10.000000000000002\n",
      "102.24492 25.70593\n"
     ]
    },
    {
     "data": {
      "text/html": [
       "<div>\n",
       "<style scoped>\n",
       "    .dataframe tbody tr th:only-of-type {\n",
       "        vertical-align: middle;\n",
       "    }\n",
       "\n",
       "    .dataframe tbody tr th {\n",
       "        vertical-align: top;\n",
       "    }\n",
       "\n",
       "    .dataframe thead th {\n",
       "        text-align: right;\n",
       "    }\n",
       "</style>\n",
       "<table border=\"1\" class=\"dataframe\">\n",
       "  <thead>\n",
       "    <tr style=\"text-align: right;\">\n",
       "      <th></th>\n",
       "      <th>Test RMSE</th>\n",
       "      <th>Test R2</th>\n",
       "      <th>Test MedianAE</th>\n",
       "      <th>Test MeanAE</th>\n",
       "      <th>Train RMSE</th>\n",
       "      <th>Train R2</th>\n",
       "      <th>Train MedianAE</th>\n",
       "      <th>Train MeanAE</th>\n",
       "    </tr>\n",
       "  </thead>\n",
       "  <tbody>\n",
       "    <tr>\n",
       "      <th>0</th>\n",
       "      <td>18.836538</td>\n",
       "      <td>0.293638</td>\n",
       "      <td>11.450283</td>\n",
       "      <td>14.506634</td>\n",
       "      <td>13.581437</td>\n",
       "      <td>0.673228</td>\n",
       "      <td>8.143417</td>\n",
       "      <td>10.306921</td>\n",
       "    </tr>\n",
       "  </tbody>\n",
       "</table>\n",
       "</div>"
      ],
      "text/plain": [
       "   Test RMSE   Test R2  Test MedianAE  Test MeanAE  Train RMSE  Train R2  \\\n",
       "0  18.836538  0.293638      11.450283    14.506634   13.581437  0.673228   \n",
       "\n",
       "   Train MedianAE  Train MeanAE  \n",
       "0        8.143417     10.306921  "
      ]
     },
     "execution_count": 11,
     "metadata": {},
     "output_type": "execute_result"
    }
   ],
   "source": [
    "print(np.expm1(sets['queens']['y_test'].max()), np.expm1(sets['queens']['y_test'].min()))\n",
    "print(np.expm1(test_predictions['queens'][0].max()), np.expm1(test_predictions['queens'][0].min()))\n",
    "\n",
    "pd.DataFrame(results['queens'], columns=['Test RMSE', 'Test R2', 'Test MedianAE', 'Test MeanAE', 'Train RMSE', 'Train R2', 'Train MedianAE', 'Train MeanAE'])"
   ]
  },
  {
   "cell_type": "code",
   "execution_count": 12,
   "metadata": {},
   "outputs": [
    {
     "name": "stdout",
     "output_type": "stream",
     "text": [
      "114.99999999999999 20.0\n",
      "106.97508 25.987278\n"
     ]
    },
    {
     "data": {
      "text/html": [
       "<div>\n",
       "<style scoped>\n",
       "    .dataframe tbody tr th:only-of-type {\n",
       "        vertical-align: middle;\n",
       "    }\n",
       "\n",
       "    .dataframe tbody tr th {\n",
       "        vertical-align: top;\n",
       "    }\n",
       "\n",
       "    .dataframe thead th {\n",
       "        text-align: right;\n",
       "    }\n",
       "</style>\n",
       "<table border=\"1\" class=\"dataframe\">\n",
       "  <thead>\n",
       "    <tr style=\"text-align: right;\">\n",
       "      <th></th>\n",
       "      <th>Test RMSE</th>\n",
       "      <th>Test R2</th>\n",
       "      <th>Test MedianAE</th>\n",
       "      <th>Test MeanAE</th>\n",
       "      <th>Train RMSE</th>\n",
       "      <th>Train R2</th>\n",
       "      <th>Train MedianAE</th>\n",
       "      <th>Train MeanAE</th>\n",
       "    </tr>\n",
       "  </thead>\n",
       "  <tbody>\n",
       "    <tr>\n",
       "      <th>0</th>\n",
       "      <td>19.482937</td>\n",
       "      <td>0.36408</td>\n",
       "      <td>12.763657</td>\n",
       "      <td>14.507064</td>\n",
       "      <td>4.238535</td>\n",
       "      <td>0.977062</td>\n",
       "      <td>1.601185</td>\n",
       "      <td>2.632404</td>\n",
       "    </tr>\n",
       "  </tbody>\n",
       "</table>\n",
       "</div>"
      ],
      "text/plain": [
       "   Test RMSE  Test R2  Test MedianAE  Test MeanAE  Train RMSE  Train R2  \\\n",
       "0  19.482937  0.36408      12.763657    14.507064    4.238535  0.977062   \n",
       "\n",
       "   Train MedianAE  Train MeanAE  \n",
       "0        1.601185      2.632404  "
      ]
     },
     "execution_count": 12,
     "metadata": {},
     "output_type": "execute_result"
    }
   ],
   "source": [
    "print(np.expm1(sets['staten_island']['y_test'].max()), np.expm1(sets['staten_island']['y_test'].min()))\n",
    "print(np.expm1(test_predictions['staten_island'][0].max()), np.expm1(test_predictions['staten_island'][0].min()))\n",
    "\n",
    "pd.DataFrame(results['staten_island'], columns=['Test RMSE', 'Test R2', 'Test MedianAE', 'Test MeanAE', 'Train RMSE', 'Train R2', 'Train MedianAE', 'Train MeanAE'])"
   ]
  },
  {
   "cell_type": "code",
   "execution_count": null,
   "metadata": {
    "collapsed": true
   },
   "outputs": [],
   "source": []
  }
 ],
 "metadata": {
  "kernelspec": {
   "display_name": "Python 3",
   "language": "python",
   "name": "python3"
  },
  "language_info": {
   "codemirror_mode": {
    "name": "ipython",
    "version": 3
   },
   "file_extension": ".py",
   "mimetype": "text/x-python",
   "name": "python",
   "nbconvert_exporter": "python",
   "pygments_lexer": "ipython3",
   "version": "3.5.2"
  }
 },
 "nbformat": 4,
 "nbformat_minor": 2
}
